{
 "cells": [
  {
   "cell_type": "markdown",
   "id": "c88af02a",
   "metadata": {},
   "source": [
    "### Problem 1"
   ]
  },
  {
   "cell_type": "code",
   "execution_count": 233,
   "id": "63346eb2",
   "metadata": {},
   "outputs": [],
   "source": [
    "import pandas as pd\n",
    "import numpy as np\n",
    " "
   ]
  },
  {
   "cell_type": "markdown",
   "id": "90243d88",
   "metadata": {},
   "source": [
    "### Give input matrix "
   ]
  },
  {
   "cell_type": "markdown",
   "id": "27a26753",
   "metadata": {},
   "source": [
    "## Here I have given the same matrix as therr in example you can give your own any nxn matric to get the data in the required form"
   ]
  },
  {
   "cell_type": "code",
   "execution_count": 234,
   "id": "29860ddb",
   "metadata": {},
   "outputs": [],
   "source": [
    "d=np.array([[1.0, 2.0, 0],\n",
    "[0, 1, 1],\n",
    "[5, 6, 5]])"
   ]
  },
  {
   "cell_type": "code",
   "execution_count": 235,
   "id": "1cd3ebbb",
   "metadata": {
    "scrolled": false
   },
   "outputs": [],
   "source": [
    "##replace 0 with mean \n",
    "def get_normalized(d):\n",
    "    for i in range(d.shape[0]):\n",
    "        for j in range(d.shape[0]):\n",
    "            if d[i][j]==0:\n",
    "                #print(d[i][j])\n",
    "                d[i][j]=d[:,j].sum()/np.count_nonzero(d[:,j])\n",
    "\n",
    "\n",
    "\n",
    "    new = d.copy()\n",
    "    ##   cal ctandard dev \n",
    "\n",
    "    for i in range(d.shape[0]):\n",
    "        for j in range(d.shape[0]):\n",
    "            #print(d[i][j])\n",
    "            #print(d[:,j].mean())\n",
    "            #print(d[:,j].std())\n",
    "            #x = (d[i,j]- d[:,j].mean())\n",
    "            #print(d[:,j].std())\n",
    "            #d[i,j]= x/y\n",
    "\n",
    "            new[i,j]= ((d[i,j]- d[:,j].mean()) /  d[:,j].std())\n",
    "\n",
    "    return new\n",
    "\n"
   ]
  },
  {
   "cell_type": "code",
   "execution_count": 236,
   "id": "e81d8683",
   "metadata": {},
   "outputs": [
    {
     "data": {
      "text/plain": [
       "array([[-1.22474487, -0.46291005,  0.        ],\n",
       "       [ 0.        , -0.9258201 , -1.22474487],\n",
       "       [ 1.22474487,  1.38873015,  1.22474487]])"
      ]
     },
     "execution_count": 236,
     "metadata": {},
     "output_type": "execute_result"
    }
   ],
   "source": [
    "get_normalized(d)"
   ]
  },
  {
   "cell_type": "markdown",
   "id": "80d372c8",
   "metadata": {},
   "source": [
    "### Test case"
   ]
  },
  {
   "cell_type": "code",
   "execution_count": 237,
   "id": "4cbe9ac4",
   "metadata": {},
   "outputs": [],
   "source": [
    "d=np.array([[1.0, 2.0, 0],\n",
    "[0, 1, 1],\n",
    "[5, 6, 5]])\n",
    "\n",
    "\n",
    "new = np.round(new,5)"
   ]
  },
  {
   "cell_type": "code",
   "execution_count": 238,
   "id": "5c0c3a4a",
   "metadata": {},
   "outputs": [],
   "source": [
    "test= np.array([[-1.22474, -0.46291,  0.     ],\n",
    "       [ 0.     , -0.92582, -1.22474],\n",
    "       [ 1.22474,  1.38873,  1.22474]])"
   ]
  },
  {
   "cell_type": "code",
   "execution_count": 239,
   "id": "3f606807",
   "metadata": {},
   "outputs": [
    {
     "name": "stdout",
     "output_type": "stream",
     "text": [
      "Test Passed\n"
     ]
    }
   ],
   "source": [
    "for i in range(new.shape[0]):\n",
    "    for j in range(new.shape[0]):\n",
    "        if new[i,j] != test[i,j]:\n",
    "            print(\"Test failed\")\n",
    "            break\n",
    "\n",
    "        \n",
    "print(\"Test Passed\")\n",
    "    "
   ]
  },
  {
   "cell_type": "code",
   "execution_count": null,
   "id": "25171009",
   "metadata": {},
   "outputs": [],
   "source": []
  },
  {
   "cell_type": "code",
   "execution_count": null,
   "id": "6ba96594",
   "metadata": {},
   "outputs": [],
   "source": []
  },
  {
   "cell_type": "markdown",
   "id": "550549cc",
   "metadata": {},
   "source": [
    "### Assignment Problem 2\n"
   ]
  },
  {
   "cell_type": "markdown",
   "id": "202b5b70",
   "metadata": {},
   "source": [
    "### Unable to copy the json data hence curating my own dataset to solve the problem \n"
   ]
  },
  {
   "cell_type": "code",
   "execution_count": 240,
   "id": "b20c52ab",
   "metadata": {},
   "outputs": [],
   "source": [
    "### write a function to do this "
   ]
  },
  {
   "cell_type": "code",
   "execution_count": 291,
   "id": "805b2afe",
   "metadata": {},
   "outputs": [],
   "source": [
    "def studio_or_bedroom(str_data):\n",
    "    x=list(str_data.split(\" \"))\n",
    "    if 'studio' in x or '1-bedroom' in x :\n",
    "        if x[0]=='studio':\n",
    "            return 0\n",
    "        elif x[0]=='1-bedroom':\n",
    "            return 1\n",
    "        else:\n",
    "            \n",
    "            for i in range(1,len(x)):\n",
    "                if str(x[i]) =='studio':\n",
    "                    if x[i-1] not in ['yoga','dance','art']:\n",
    "                        print(\"it is a studio\")\n",
    "                        return 0\n",
    "                if str(x[i]) =='1-bedroom':\n",
    "                    if x[i-1] not in ['yoga','dance','art']:\n",
    "                        print(\"it is a studio\")\n",
    "                        return 1\n",
    "                    \n",
    "             \n",
    "            \n",
    "            \n",
    "        \n",
    "    \n",
    "    \n",
    "    "
   ]
  },
  {
   "cell_type": "code",
   "execution_count": 292,
   "id": "405d4515",
   "metadata": {},
   "outputs": [
    {
     "name": "stdout",
     "output_type": "stream",
     "text": [
      "it is a studio\n",
      "test passed\n"
     ]
    }
   ],
   "source": [
    "if studio_or_bedroom(\"This luxurious studio apartment is in the heart of downtown\")==0:\n",
    "    print(\"test passed\")"
   ]
  },
  {
   "cell_type": "code",
   "execution_count": 293,
   "id": "38ad0509",
   "metadata": {},
   "outputs": [
    {
     "name": "stdout",
     "output_type": "stream",
     "text": [
      "it is a studio\n",
      "test passed\n"
     ]
    }
   ],
   "source": [
    "if studio_or_bedroom(\"We have a 1-bedroom available on the third floor\")==1:\n",
    "    print(\"test passed\")"
   ]
  },
  {
   "cell_type": "code",
   "execution_count": 294,
   "id": "2fcdc3f7",
   "metadata": {},
   "outputs": [
    {
     "name": "stdout",
     "output_type": "stream",
     "text": [
      "it is a studio\n",
      "test passed\n"
     ]
    }
   ],
   "source": [
    "if studio_or_bedroom(\"Beautiful 1-bedroom apartment with nearby yoga studio\")==1:\n",
    "    print(\"test passed\")"
   ]
  },
  {
   "cell_type": "code",
   "execution_count": 295,
   "id": "e7f14a31",
   "metadata": {},
   "outputs": [
    {
     "name": "stdout",
     "output_type": "stream",
     "text": [
      "it is a studio\n",
      "test passed\n"
     ]
    }
   ],
   "source": [
    "if studio_or_bedroom(\"Beautiful studio with a nearby art studio\")==0:\n",
    "    print(\"test passed\")"
   ]
  },
  {
   "cell_type": "code",
   "execution_count": null,
   "id": "5bdb509b",
   "metadata": {},
   "outputs": [],
   "source": []
  }
 ],
 "metadata": {
  "kernelspec": {
   "display_name": "Python 3 (ipykernel)",
   "language": "python",
   "name": "python3"
  },
  "language_info": {
   "codemirror_mode": {
    "name": "ipython",
    "version": 3
   },
   "file_extension": ".py",
   "mimetype": "text/x-python",
   "name": "python",
   "nbconvert_exporter": "python",
   "pygments_lexer": "ipython3",
   "version": "3.9.7"
  }
 },
 "nbformat": 4,
 "nbformat_minor": 5
}
